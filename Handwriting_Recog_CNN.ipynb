{
  "nbformat": 4,
  "nbformat_minor": 0,
  "metadata": {
    "colab": {
      "name": "Handwriting_Recog_CNN.ipynb",
      "provenance": [],
      "authorship_tag": "ABX9TyNmEBiK7M2Wdau/t72vikvj",
      "include_colab_link": true
    },
    "kernelspec": {
      "name": "python3",
      "display_name": "Python 3"
    },
    "accelerator": "GPU"
  },
  "cells": [
    {
      "cell_type": "markdown",
      "metadata": {
        "id": "view-in-github",
        "colab_type": "text"
      },
      "source": [
        "<a href=\"https://colab.research.google.com/github/abhinavmangla/HandwritingRecognition/blob/master/Handwriting_Recog_CNN.ipynb\" target=\"_parent\"><img src=\"https://colab.research.google.com/assets/colab-badge.svg\" alt=\"Open In Colab\"/></a>"
      ]
    },
    {
      "cell_type": "code",
      "metadata": {
        "id": "ozhiFxRHAdmW",
        "colab_type": "code",
        "outputId": "8900f87a-b7f9-43c9-e806-267fc7eab639",
        "colab": {
          "base_uri": "https://localhost:8080/",
          "height": 102
        }
      },
      "source": [
        "import tensorflow as tf\n",
        "from tensorflow import keras\n",
        "%tensorflow_version 2.x magic"
      ],
      "execution_count": 3,
      "outputs": [
        {
          "output_type": "stream",
          "text": [
            "`%tensorflow_version` only switches the major version: 1.x or 2.x.\n",
            "You set: `2.x magic`. This will be interpreted as: `2.x`.\n",
            "\n",
            "\n",
            "TensorFlow is already loaded. Please restart the runtime to change versions.\n"
          ],
          "name": "stdout"
        }
      ]
    },
    {
      "cell_type": "code",
      "metadata": {
        "id": "DVsBX9NsAjkt",
        "colab_type": "code",
        "colab": {}
      },
      "source": [
        "class MyCallBack(keras.callbacks.Callback):\n",
        "  def on_epoch_end(self, epochs, logs={}):\n",
        "    if logs.get('loss')<0.2:\n",
        "      print(\"Time to Stop\")\n",
        "      models.stop_training = True\n",
        "callbacks = MyCallBack()\n"
      ],
      "execution_count": 0,
      "outputs": []
    },
    {
      "cell_type": "code",
      "metadata": {
        "id": "5cb6MMAJAmml",
        "colab_type": "code",
        "colab": {}
      },
      "source": [
        "mnist = keras.datasets.mnist\n",
        "(train_data, train_labels), (test_data, test_labels) = mnist.load_data()"
      ],
      "execution_count": 0,
      "outputs": []
    },
    {
      "cell_type": "code",
      "metadata": {
        "id": "-vFfwjVr3TdZ",
        "colab_type": "code",
        "colab": {}
      },
      "source": [
        "train_data=train_data.reshape(60000, 28, 28, 1)\n",
        "train_data=train_data / 255.0\n",
        "test_data = test_data.reshape(10000, 28, 28, 1)\n",
        "test_data=test_data/255.0"
      ],
      "execution_count": 0,
      "outputs": []
    },
    {
      "cell_type": "code",
      "metadata": {
        "id": "1ksQnnm53U6t",
        "colab_type": "code",
        "colab": {}
      },
      "source": [
        "model = keras.Sequential([\n",
        "        keras.layers.Conv2D(64, (3,3), activation='relu'),\n",
        "        keras.layers.MaxPooling2D(2,2),\n",
        "        keras.layers.Conv2D(64, (3,3), activation='relu'),\n",
        "        keras.layers.MaxPooling2D(2,2),\n",
        "        keras.layers.Flatten(),\n",
        "        keras.layers.Dense(128, activation='relu'),\n",
        "        keras.layers.Dense(10, activation='softmax')\n",
        "])"
      ],
      "execution_count": 0,
      "outputs": []
    },
    {
      "cell_type": "code",
      "metadata": {
        "id": "63W8FB4e5D2M",
        "colab_type": "code",
        "colab": {
          "base_uri": "https://localhost:8080/",
          "height": 391
        },
        "outputId": "0526c20f-a3c2-497a-ae62-c3f15803d1dd"
      },
      "source": [
        "model.compile(optimizer='adam', loss='sparse_categorical_crossentropy', metrics=['accuracy'])\n",
        "model.fit(train_data, train_labels, epochs =10)"
      ],
      "execution_count": 29,
      "outputs": [
        {
          "output_type": "stream",
          "text": [
            "Train on 60000 samples\n",
            "Epoch 1/10\n",
            "60000/60000 [==============================] - 18s 297us/sample - loss: 0.1242 - acc: 0.9621\n",
            "Epoch 2/10\n",
            "60000/60000 [==============================] - 12s 208us/sample - loss: 0.0413 - acc: 0.9874\n",
            "Epoch 3/10\n",
            "60000/60000 [==============================] - 12s 198us/sample - loss: 0.0286 - acc: 0.9906\n",
            "Epoch 4/10\n",
            "60000/60000 [==============================] - 12s 197us/sample - loss: 0.0203 - acc: 0.9936\n",
            "Epoch 5/10\n",
            "60000/60000 [==============================] - 12s 196us/sample - loss: 0.0158 - acc: 0.9949\n",
            "Epoch 6/10\n",
            "60000/60000 [==============================] - 12s 198us/sample - loss: 0.0119 - acc: 0.9960\n",
            "Epoch 7/10\n",
            "60000/60000 [==============================] - 12s 199us/sample - loss: 0.0101 - acc: 0.9966\n",
            "Epoch 8/10\n",
            "60000/60000 [==============================] - 12s 197us/sample - loss: 0.0081 - acc: 0.9972\n",
            "Epoch 9/10\n",
            "60000/60000 [==============================] - 12s 196us/sample - loss: 0.0069 - acc: 0.9978\n",
            "Epoch 10/10\n",
            "60000/60000 [==============================] - 12s 198us/sample - loss: 0.0063 - acc: 0.9977\n"
          ],
          "name": "stdout"
        },
        {
          "output_type": "execute_result",
          "data": {
            "text/plain": [
              "<tensorflow.python.keras.callbacks.History at 0x7f4dee346828>"
            ]
          },
          "metadata": {
            "tags": []
          },
          "execution_count": 29
        }
      ]
    },
    {
      "cell_type": "code",
      "metadata": {
        "id": "-pd-FzCG5nSi",
        "colab_type": "code",
        "colab": {
          "base_uri": "https://localhost:8080/",
          "height": 391
        },
        "outputId": "f0a011c4-e044-4fdb-b905-e2fb1ab53315"
      },
      "source": [
        "model.summary()"
      ],
      "execution_count": 30,
      "outputs": [
        {
          "output_type": "stream",
          "text": [
            "Model: \"sequential_3\"\n",
            "_________________________________________________________________\n",
            "Layer (type)                 Output Shape              Param #   \n",
            "=================================================================\n",
            "conv2d_8 (Conv2D)            multiple                  640       \n",
            "_________________________________________________________________\n",
            "max_pooling2d_8 (MaxPooling2 multiple                  0         \n",
            "_________________________________________________________________\n",
            "conv2d_9 (Conv2D)            multiple                  36928     \n",
            "_________________________________________________________________\n",
            "max_pooling2d_9 (MaxPooling2 multiple                  0         \n",
            "_________________________________________________________________\n",
            "flatten_3 (Flatten)          multiple                  0         \n",
            "_________________________________________________________________\n",
            "dense_6 (Dense)              multiple                  204928    \n",
            "_________________________________________________________________\n",
            "dense_7 (Dense)              multiple                  1290      \n",
            "=================================================================\n",
            "Total params: 243,786\n",
            "Trainable params: 243,786\n",
            "Non-trainable params: 0\n",
            "_________________________________________________________________\n"
          ],
          "name": "stdout"
        }
      ]
    },
    {
      "cell_type": "code",
      "metadata": {
        "id": "3TuMSswE8E74",
        "colab_type": "code",
        "colab": {
          "base_uri": "https://localhost:8080/",
          "height": 51
        },
        "outputId": "45ab4285-15e9-41c9-b09c-238edf268352"
      },
      "source": [
        "model.evaluate(test_data, test_labels)"
      ],
      "execution_count": 31,
      "outputs": [
        {
          "output_type": "stream",
          "text": [
            "10000/10000 [==============================] - 1s 112us/sample - loss: 0.0370 - acc: 0.9923\n"
          ],
          "name": "stdout"
        },
        {
          "output_type": "execute_result",
          "data": {
            "text/plain": [
              "[0.03699142251777831, 0.9923]"
            ]
          },
          "metadata": {
            "tags": []
          },
          "execution_count": 31
        }
      ]
    },
    {
      "cell_type": "code",
      "metadata": {
        "id": "PekkTikS8J3d",
        "colab_type": "code",
        "colab": {}
      },
      "source": [
        ""
      ],
      "execution_count": 0,
      "outputs": []
    }
  ]
}