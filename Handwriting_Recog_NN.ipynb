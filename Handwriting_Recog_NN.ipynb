{
  "nbformat": 4,
  "nbformat_minor": 0,
  "metadata": {
    "colab": {
      "name": "Handwriting_Recog_NN.ipynb",
      "provenance": [],
      "authorship_tag": "ABX9TyPXd3QBroaNt+Z9iL3XSm6y",
      "include_colab_link": true
    },
    "kernelspec": {
      "name": "python3",
      "display_name": "Python 3"
    },
    "accelerator": "GPU"
  },
  "cells": [
    {
      "cell_type": "markdown",
      "metadata": {
        "id": "view-in-github",
        "colab_type": "text"
      },
      "source": [
        "<a href=\"https://colab.research.google.com/github/abhinavmangla/HandwritingRecognition/blob/master/Handwriting_Recog_NN.ipynb\" target=\"_parent\"><img src=\"https://colab.research.google.com/assets/colab-badge.svg\" alt=\"Open In Colab\"/></a>"
      ]
    },
    {
      "cell_type": "code",
      "metadata": {
        "id": "EY4L1AwjhRv2",
        "colab_type": "code",
        "colab": {
          "base_uri": "https://localhost:8080/",
          "height": 63
        },
        "outputId": "49c4dc34-0c75-4cd7-dbc0-377b5eb5114b"
      },
      "source": [
        "#importing required libraries\n",
        "import tensorflow as tf\n",
        "from tensorflow import keras"
      ],
      "execution_count": 1,
      "outputs": [
        {
          "output_type": "display_data",
          "data": {
            "text/html": [
              "<p style=\"color: red;\">\n",
              "The default version of TensorFlow in Colab will soon switch to TensorFlow 2.x.<br>\n",
              "We recommend you <a href=\"https://www.tensorflow.org/guide/migrate\" target=\"_blank\">upgrade</a> now \n",
              "or ensure your notebook will continue to use TensorFlow 1.x via the <code>%tensorflow_version 1.x</code> magic:\n",
              "<a href=\"https://colab.research.google.com/notebooks/tensorflow_version.ipynb\" target=\"_blank\">more info</a>.</p>\n"
            ],
            "text/plain": [
              "<IPython.core.display.HTML object>"
            ]
          },
          "metadata": {
            "tags": []
          }
        }
      ]
    },
    {
      "cell_type": "code",
      "metadata": {
        "id": "FlNyDFZzkGQb",
        "colab_type": "code",
        "colab": {}
      },
      "source": [
        "# Stop the training if accuracy>0.99\n",
        "class MyCallback(keras.callbacks.Callback):\n",
        "  def on_epoch_end(self, epochs, logs={}):\n",
        "    if logs.get('acc')>0.99:\n",
        "      print(\"Stopping\")\n",
        "      self.model.stop_training = True"
      ],
      "execution_count": 0,
      "outputs": []
    },
    {
      "cell_type": "code",
      "metadata": {
        "id": "_MuGqjBCiHw3",
        "colab_type": "code",
        "colab": {}
      },
      "source": [
        "#Getting the dataset\n",
        "mnist = tf.keras.datasets.mnist\n",
        "(train_data, train_labels), (test_data, test_labels) = mnist.load_data()"
      ],
      "execution_count": 0,
      "outputs": []
    },
    {
      "cell_type": "code",
      "metadata": {
        "id": "BN5ImUmUkEF4",
        "colab_type": "code",
        "colab": {}
      },
      "source": [
        "#Normalising the data\n",
        "train_data, test_data = train_data/255.0, test_data/255.0\n",
        "callbacks = MyCallback()"
      ],
      "execution_count": 0,
      "outputs": []
    },
    {
      "cell_type": "code",
      "metadata": {
        "id": "1pzYoPB_lP9V",
        "colab_type": "code",
        "colab": {}
      },
      "source": [
        "model = keras.Sequential([\n",
        "        keras.layers.Flatten(),\n",
        "        keras.layers.Dense(256, activation=tf.nn.relu),\n",
        "        keras.layers.Dense(512, activation=tf.nn.relu),\n",
        "        keras.layers.Dense(10, activation=tf.nn.softmax)          \n",
        "])"
      ],
      "execution_count": 0,
      "outputs": []
    },
    {
      "cell_type": "code",
      "metadata": {
        "id": "oN_Xvix5mZCg",
        "colab_type": "code",
        "colab": {
          "base_uri": "https://localhost:8080/",
          "height": 272
        },
        "outputId": "d0886e24-e9b5-441e-b544-62d05a440e4a"
      },
      "source": [
        "model.compile(optimizer='adam', loss = 'sparse_categorical_crossentropy', metrics=['accuracy'])\n",
        "model.fit(train_data, train_labels, epochs = 10, callbacks=[callbacks])"
      ],
      "execution_count": 21,
      "outputs": [
        {
          "output_type": "stream",
          "text": [
            "Train on 60000 samples\n",
            "Epoch 1/10\n",
            "60000/60000 [==============================] - 4s 64us/sample - loss: 0.1934 - acc: 0.9414\n",
            "Epoch 2/10\n",
            "60000/60000 [==============================] - 4s 64us/sample - loss: 0.0834 - acc: 0.9734\n",
            "Epoch 3/10\n",
            "60000/60000 [==============================] - 4s 64us/sample - loss: 0.0592 - acc: 0.9809\n",
            "Epoch 4/10\n",
            "60000/60000 [==============================] - 4s 63us/sample - loss: 0.0440 - acc: 0.9857\n",
            "Epoch 5/10\n",
            "60000/60000 [==============================] - 4s 63us/sample - loss: 0.0354 - acc: 0.9888\n",
            "Epoch 6/10\n",
            "59264/60000 [============================>.] - ETA: 0s - loss: 0.0294 - acc: 0.9907Stopping\n",
            "60000/60000 [==============================] - 4s 64us/sample - loss: 0.0295 - acc: 0.9907\n"
          ],
          "name": "stdout"
        },
        {
          "output_type": "execute_result",
          "data": {
            "text/plain": [
              "<tensorflow.python.keras.callbacks.History at 0x7f2d6c0fa668>"
            ]
          },
          "metadata": {
            "tags": []
          },
          "execution_count": 21
        }
      ]
    },
    {
      "cell_type": "code",
      "metadata": {
        "id": "lj-3ID3Sm21V",
        "colab_type": "code",
        "colab": {
          "base_uri": "https://localhost:8080/",
          "height": 51
        },
        "outputId": "70edff3a-edb4-479e-9faf-798e939c479c"
      },
      "source": [
        "model.evaluate(test_data, test_labels)"
      ],
      "execution_count": 22,
      "outputs": [
        {
          "output_type": "stream",
          "text": [
            "10000/10000 [==============================] - 0s 44us/sample - loss: 0.0898 - acc: 0.9773\n"
          ],
          "name": "stdout"
        },
        {
          "output_type": "execute_result",
          "data": {
            "text/plain": [
              "[0.08980087104430785, 0.9773]"
            ]
          },
          "metadata": {
            "tags": []
          },
          "execution_count": 22
        }
      ]
    },
    {
      "cell_type": "code",
      "metadata": {
        "id": "RcBz1u1koFeW",
        "colab_type": "code",
        "colab": {}
      },
      "source": [
        ""
      ],
      "execution_count": 0,
      "outputs": []
    }
  ]
}